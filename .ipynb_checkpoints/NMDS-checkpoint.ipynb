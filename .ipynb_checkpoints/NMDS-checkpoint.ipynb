{
 "cells": [
  {
   "cell_type": "code",
   "execution_count": 52,
   "id": "a7663a2b",
   "metadata": {
    "scrolled": false
   },
   "outputs": [
    {
     "name": "stdout",
     "output_type": "stream",
     "text": [
      "file          all  Odorrana swinhoana  Limnonectes fujianensis  Agathia laetata  \\\n",
      "0     BaoYan                   0                        0                0   \n",
      "1     CuKeng                   1                        1                0   \n",
      "2     FanFan                   1                        0                0   \n",
      "3     FuBuEr                   0                        0                0   \n",
      "4     MeiLuo                   0                        0                0   \n",
      "5     MeiYou                   0                        0                0   \n",
      "6     NanShi                   1                        1                1   \n",
      "7   QingShui                   0                        0                1   \n",
      "8    SongLuo                   1                        1                0   \n",
      "9   SanGuang                   1                        0                0   \n",
      "10   TianGou                   0                        0                0   \n",
      "11   TuChang                   1                        0                0   \n",
      "12   TaiGang                   1                        0                0   \n",
      "\n",
      "    Cyana quadripartita  Lycodon ruhstrati  Pareas atayal  \\\n",
      "0                     0                  0              0   \n",
      "1                     0                  1              1   \n",
      "2                     1                  1              0   \n",
      "3                     0                  0              0   \n",
      "4                     0                  0              0   \n",
      "5                     0                  0              0   \n",
      "6                     1                  1              1   \n",
      "7                     0                  0              0   \n",
      "8                     0                  1              0   \n",
      "9                     0                  1              1   \n",
      "10                    0                  1              0   \n",
      "11                    0                  1              0   \n",
      "12                    0                  0              0   \n",
      "\n",
      "    Myophonus insularis  Urocissa caerulea  Actinodura morrisoniana  ...  \\\n",
      "0                     0                  0                        0  ...   \n",
      "1                     0                  1                        0  ...   \n",
      "2                     1                  0                        0  ...   \n",
      "3                     0                  0                        0  ...   \n",
      "4                     0                  0                        0  ...   \n",
      "5                     1                  0                        0  ...   \n",
      "6                     1                  1                        0  ...   \n",
      "7                     0                  0                        0  ...   \n",
      "8                     0                  1                        0  ...   \n",
      "9                     0                  0                        0  ...   \n",
      "10                    1                  0                        1  ...   \n",
      "11                    1                  1                        0  ...   \n",
      "12                    1                  0                        1  ...   \n",
      "\n",
      "    Vespa mandarinia nobilis  Crossostephium chinense  Chalcidoidea  \\\n",
      "0                          0                        0             0   \n",
      "1                          0                        0             0   \n",
      "2                          0                        0             0   \n",
      "3                          0                        0             0   \n",
      "4                          0                        0             0   \n",
      "5                          0                        0             0   \n",
      "6                          0                        1             0   \n",
      "7                          0                        0             0   \n",
      "8                          0                        0             0   \n",
      "9                          1                        0             0   \n",
      "10                         0                        0             0   \n",
      "11                         0                        0             0   \n",
      "12                         0                        0             1   \n",
      "\n",
      "    Schoenoplectiella juncoides  Spilarctia clava  Somadasys catacoides  \\\n",
      "0                             0                 0                     0   \n",
      "1                             1                 0                     0   \n",
      "2                             0                 0                     0   \n",
      "3                             0                 0                     0   \n",
      "4                             0                 0                     0   \n",
      "5                             0                 0                     0   \n",
      "6                             0                 0                     0   \n",
      "7                             0                 0                     0   \n",
      "8                             0                 0                     0   \n",
      "9                             0                 0                     0   \n",
      "10                            0                 0                     1   \n",
      "11                            0                 1                     0   \n",
      "12                            0                 0                     0   \n",
      "\n",
      "    Chundana  Teulisna tumida  Bambusa vulgaris  Agetocera discedens  \n",
      "0          0                0                 0                    0  \n",
      "1          0                0                 0                    0  \n",
      "2          0                0                 0                    0  \n",
      "3          0                0                 0                    0  \n",
      "4          0                0                 0                    0  \n",
      "5          0                0                 0                    0  \n",
      "6          0                0                 0                    0  \n",
      "7          0                0                 0                    0  \n",
      "8          0                0                 0                    0  \n",
      "9          0                0                 0                    1  \n",
      "10         1                0                 0                    0  \n",
      "11         0                1                 0                    0  \n",
      "12         0                0                 1                    0  \n",
      "\n",
      "[13 rows x 7001 columns]\n",
      "-------------------------------\n",
      "name 0       BaoYan\n",
      "1       CuKeng\n",
      "2       FanFan\n",
      "3       FuBuEr\n",
      "4       MeiLuo\n",
      "5       MeiYou\n",
      "6       NanShi\n",
      "7     QingShui\n",
      "8      SongLuo\n",
      "9     SanGuang\n",
      "10     TianGou\n",
      "11     TuChang\n",
      "12     TaiGang\n",
      "Name: all, dtype: object\n",
      "-------------------------------\n",
      "data [[0 0 0 ... 0 0 0]\n",
      " [1 1 0 ... 0 0 0]\n",
      " [1 0 0 ... 0 0 0]\n",
      " ...\n",
      " [0 0 0 ... 0 0 0]\n",
      " [1 0 0 ... 1 0 0]\n",
      " [1 0 0 ... 0 1 0]]\n"
     ]
    },
    {
     "name": "stderr",
     "output_type": "stream",
     "text": [
      "C:\\Users\\Tosha.E.T\\AppData\\Roaming\\Python\\Python39\\site-packages\\sklearn\\manifold\\_mds.py:298: FutureWarning: The default value of `normalized_stress` will change to `'auto'` in version 1.4. To suppress this warning, manually set the value of `normalized_stress`.\n",
      "  warnings.warn(\n"
     ]
    },
    {
     "data": {
      "image/png": "[encoded data removed]",
      "text/plain": [
       "<Figure size 432x288 with 1 Axes>"
      ]
     },
     "metadata": {
      "needs_background": "light"
     },
     "output_type": "display_data"
    }
   ],
   "source": [
    "import pandas as pd\n",
    "import numpy as np\n",
    "from sklearn.manifold import MDS\n",
    "import matplotlib.pyplot as plt\n",
    "\n",
    "file = pd.read_csv(r'result.csv')   # read csv\n",
    "print(\"file\",file)\n",
    "print(\"-------------------------------\")\n",
    "\n",
    "name = file.iloc[:, 0]   # save label\n",
    "print(\"name\",name)\n",
    "\n",
    "print(\"-------------------------------\")\n",
    "data = file.iloc[:, 1:].values   # save unmber data\n",
    "print(\"data\",data)\n",
    "\n",
    "\n",
    "\n",
    "\n",
    "# 计算距离矩阵（这里使用欧氏距离）\n",
    "distances = np.linalg.norm(data[:, np.newaxis, :] - data, axis=2)\n",
    "\n",
    "# 使用NMDS\n",
    "nmds = MDS(n_components=2, dissimilarity='precomputed', random_state=42)\n",
    "embedded_data = nmds.fit_transform(distances)\n",
    "\n",
    "# 绘制结果\n",
    "plt.scatter(embedded_data[:, 0], embedded_data[:, 1])\n",
    "# 在每個點上標註標籤\n",
    "for i, txt in enumerate(name):\n",
    "    plt.text(embedded_data[i, 0], embedded_data[i, 1], txt, fontsize=8, ha='right', va='bottom')\n",
    "    \n",
    "plt.title('NMDS Embedding')\n",
    "plt.show()\n"
   ]
  },
  {
   "cell_type": "code",
   "execution_count": 70,
   "id": "6e606fe9",
   "metadata": {},
   "outputs": [
    {
     "name": "stderr",
     "output_type": "stream",
     "text": [
      "C:\\Users\\Tosha.E.T\\AppData\\Roaming\\Python\\Python39\\site-packages\\sklearn\\manifold\\_mds.py:298: FutureWarning: The default value of `normalized_stress` will change to `'auto'` in version 1.4. To suppress this warning, manually set the value of `normalized_stress`.\n",
      "  warnings.warn(\n"
     ]
    },
    {
     "data": {
      "image/png": "[encoded data removed]",
      "text/plain": [
       "<Figure size 432x288 with 1 Axes>"
      ]
     },
     "metadata": {
      "needs_background": "light"
     },
     "output_type": "display_data"
    }
   ],
   "source": [
    "import pandas as pd\n",
    "import numpy as np\n",
    "from sklearn.manifold import MDS\n",
    "import matplotlib.pyplot as plt\n",
    "from sklearn.metrics import pairwise_distances\n",
    "\n",
    "file = pd.read_csv(r'result.csv')   # 讀取 csv 文件\n",
    "\n",
    "name = file.iloc[:, 0]   # 提取標籤\n",
    "data = file.iloc[:, 1:].values   # 提取數字數據\n",
    "\n",
    "# 計算距離矩陣\n",
    "distances = pairwise_distances(data, metric='braycurtis')\n",
    "# 使用 NMDS\n",
    "nmds = MDS(n_components=2, dissimilarity='precomputed', random_state=42, n_init=100)\n",
    "embedded_data = nmds.fit_transform(distances)\n",
    "\n",
    "# 獲取 stress 值\n",
    "stress_value = nmds.stress_\n",
    "\n",
    "# 繪製結果\n",
    "plt.scatter(embedded_data[:, 0], embedded_data[:, 1])\n",
    "\n",
    "# 在每個點上標註標籤\n",
    "for i, txt in enumerate(name):\n",
    "    plt.text(embedded_data[i, 0], embedded_data[i, 1], txt, fontsize=8, ha='right', va='bottom')\n",
    "\n",
    "# 顯示 stress 值\n",
    "plt.text(0.5, -0.5, f'Stress: {stress_value:.4f}', fontsize=12, ha='center', va='center', color='red')\n",
    "\n",
    "plt.title('NMDS Embedding with Stress')\n",
    "plt.show()\n"
   ]
  },
  {
   "cell_type": "code",
   "execution_count": null,
   "id": "610966bf",
   "metadata": {},
   "outputs": [],
   "source": []
  },
  {
   "cell_type": "code",
   "execution_count": null,
   "id": "b2bbc282",
   "metadata": {},
   "outputs": [],
   "source": []
  }
 ],
 "metadata": {
  "kernelspec": {
   "display_name": "Python 3",
   "language": "python",
   "name": "python3"
  },
  "language_info": {
   "codemirror_mode": {
    "name": "ipython",
    "version": 3
   },
   "file_extension": ".py",
   "mimetype": "text/x-python",
   "name": "python",
   "nbconvert_exporter": "python",
   "pygments_lexer": "ipython3",
   "version": "3.9.2"
  }
 },
 "nbformat": 4,
 "nbformat_minor": 5
}
